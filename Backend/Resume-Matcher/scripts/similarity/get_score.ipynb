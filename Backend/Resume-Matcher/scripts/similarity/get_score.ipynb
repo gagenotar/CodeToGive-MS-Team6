{
 "cells": [
  {
   "cell_type": "code",
   "execution_count": 1,
   "id": "initial_id",
   "metadata": {
    "ExecuteTime": {
     "end_time": "2024-05-14T22:31:25.398358Z",
     "start_time": "2024-05-14T22:31:22.567855Z"
    },
    "collapsed": true
   },
   "outputs": [
    {
     "ename": "ModuleNotFoundError",
     "evalue": "No module named 'scripts.utils'",
     "output_type": "error",
     "traceback": [
      "\u001b[1;31m---------------------------------------------------------------------------\u001b[0m",
      "\u001b[1;31mModuleNotFoundError\u001b[0m                       Traceback (most recent call last)",
      "Cell \u001b[1;32mIn[1], line 7\u001b[0m\n\u001b[0;32m      5\u001b[0m \u001b[38;5;28;01mimport\u001b[39;00m \u001b[38;5;21;01myaml\u001b[39;00m\n\u001b[0;32m      6\u001b[0m \u001b[38;5;28;01mfrom\u001b[39;00m \u001b[38;5;21;01mqdrant_client\u001b[39;00m \u001b[38;5;28;01mimport\u001b[39;00m QdrantClient\n\u001b[1;32m----> 7\u001b[0m \u001b[38;5;28;01mfrom\u001b[39;00m \u001b[38;5;21;01mscripts\u001b[39;00m\u001b[38;5;21;01m.\u001b[39;00m\u001b[38;5;21;01mutils\u001b[39;00m\u001b[38;5;21;01m.\u001b[39;00m\u001b[38;5;21;01mlogger\u001b[39;00m \u001b[38;5;28;01mimport\u001b[39;00m init_logging_config\n",
      "\u001b[1;31mModuleNotFoundError\u001b[0m: No module named 'scripts.utils'"
     ]
    }
   ],
   "source": [
    "import json\n",
    "import logging\n",
    "import os\n",
    "\n",
    "import yaml\n",
    "from qdrant_client import QdrantClient\n",
    "from utils.logger import init_logging_config\n"
   ]
  },
  {
   "cell_type": "code",
   "execution_count": 2,
   "id": "a69d1b16785bf17b",
   "metadata": {
    "ExecuteTime": {
     "end_time": "2024-05-14T22:31:28.571615Z",
     "start_time": "2024-05-14T22:31:28.569033Z"
    }
   },
   "outputs": [],
   "source": [
    "init_logging_config(basic_log_level=logging.INFO)\n",
    "# Get the logger\n",
    "logger = logging.getLogger(__name__)\n",
    "\n",
    "# Set the logging level\n",
    "logger.setLevel(logging.INFO)"
   ]
  },
  {
   "cell_type": "code",
   "execution_count": 3,
   "id": "899904f870d3f720",
   "metadata": {
    "ExecuteTime": {
     "end_time": "2024-05-14T22:31:31.783421Z",
     "start_time": "2024-05-14T22:31:31.763842Z"
    },
    "collapsed": false
   },
   "outputs": [],
   "source": [
    "def find_path(folder_name):\n",
    "    curr_dir = os.getcwd()\n",
    "    while True:\n",
    "        if folder_name in os.listdir(curr_dir):\n",
    "            return os.path.join(curr_dir, folder_name)\n",
    "        else:\n",
    "            parent_dir = os.path.dirname(curr_dir)\n",
    "            if parent_dir == \"/\":\n",
    "                break\n",
    "            curr_dir = parent_dir\n",
    "    raise ValueError(f\"Folder '{folder_name}' not found.\")\n",
    "\n",
    "\n",
    "def read_config(filepath):\n",
    "    try:\n",
    "        with open(filepath) as f:\n",
    "            config = yaml.safe_load(f)\n",
    "        return config\n",
    "    except FileNotFoundError as e:\n",
    "        logger.error(f\"Configuration file {filepath} not found: {e}\")\n",
    "    except yaml.YAMLError as e:\n",
    "        logger.error(\n",
    "            f\"Error parsing YAML in configuration file {filepath}: {e}\", exc_info=True\n",
    "        )\n",
    "    except Exception as e:\n",
    "        logger.error(f\"Error reading configuration file {filepath}: {e}\")\n",
    "    return None\n",
    "\n",
    "\n",
    "def read_doc(path):\n",
    "    with open(path) as f:\n",
    "        try:\n",
    "            data = json.load(f)\n",
    "        except Exception as e:\n",
    "            logger.error(f\"Error reading JSON file: {e}\")\n",
    "            data = {}\n",
    "    return data\n"
   ]
  },
  {
   "cell_type": "code",
   "execution_count": 4,
   "id": "c54a86727f436747",
   "metadata": {
    "ExecuteTime": {
     "end_time": "2024-05-14T22:31:33.976354Z",
     "start_time": "2024-05-14T22:31:33.972943Z"
    },
    "collapsed": false
   },
   "outputs": [],
   "source": [
    "def get_score(resume_string, job_description_string):\n",
    "    logger.info(\"Started getting similarity score\")\n",
    "\n",
    "    documents = [resume_string]\n",
    "    client = QdrantClient(\":memory:\")\n",
    "    client.set_model(\"BAAI/bge-base-en\")\n",
    "\n",
    "    client.add(\n",
    "        collection_name=\"demo_collection\",\n",
    "        documents=documents,\n",
    "    )\n",
    "\n",
    "    search_result = client.query(\n",
    "        collection_name=\"demo_collection\", query_text=job_description_string\n",
    "    )\n",
    "    logger.info(\"Finished getting similarity score\")\n",
    "    return search_result"
   ]
  },
  {
   "cell_type": "code",
   "execution_count": 5,
   "id": "ae15b96094e7c460",
   "metadata": {
    "ExecuteTime": {
     "end_time": "2024-05-14T22:31:40.945947Z",
     "start_time": "2024-05-14T22:31:40.934732Z"
    },
    "collapsed": false
   },
   "outputs": [],
   "source": [
    "cwd = find_path('Resume-Matcher')\n",
    "READ_RESUME_FROM = os.path.join(cwd, 'Data', 'Processed', 'Resumes')\n",
    "READ_JOB_DESCRIPTION_FROM = os.path.join(cwd, 'Data', 'Processed', 'JobDescription')\n",
    "config_path = os.path.join(cwd, \"scripts\", \"similarity\")"
   ]
  },
  {
   "cell_type": "code",
   "execution_count": 6,
   "id": "2f531db076cc1f59",
   "metadata": {
    "ExecuteTime": {
     "end_time": "2024-05-14T22:32:29.666678Z",
     "start_time": "2024-05-14T22:32:28.781841Z"
    },
    "collapsed": false
   },
   "outputs": [
    {
     "name": "stderr",
     "output_type": "stream",
     "text": [
      "\u001b[32;10m2024-05-14 15:32:28,825 (1835371807.py:2) - INFO: \u001b[0mStarted getting similarity score\n",
      "\u001b[32;10m2024-05-14 15:32:29,664 (1835371807.py:16) - INFO: \u001b[0mFinished getting similarity score\n"
     ]
    },
    {
     "name": "stdout",
     "output_type": "stream",
     "text": [
      "0.8572231574198962\n"
     ]
    }
   ],
   "source": [
    "# To give your custom resume use this code\n",
    "resume_dict = read_config(\n",
    "    READ_RESUME_FROM\n",
    "    + \"/Resume-alfred_pennyworth_pm.pdf83632b66-5cce-4322-a3c6-895ff7e3dd96.json\"\n",
    ")\n",
    "job_dict = read_config(\n",
    "    READ_JOB_DESCRIPTION_FROM\n",
    "    + \"/JobDescription-job_desc_product_manager.pdf6763dc68-12ff-4b32-b652-ccee195de071.json\"\n",
    ")\n",
    "resume_keywords = resume_dict[\"extracted_keywords\"]\n",
    "job_description_keywords = job_dict[\"extracted_keywords\"]\n",
    "\n",
    "resume_string = \" \".join(resume_keywords)\n",
    "jd_string = \" \".join(job_description_keywords)\n",
    "final_result = get_score(resume_string, jd_string)\n",
    "for r in final_result:\n",
    "    print(r.score)"
   ]
  }
 ],
 "metadata": {
  "kernelspec": {
   "display_name": "Python 3",
   "language": "python",
   "name": "python3"
  },
  "language_info": {
   "codemirror_mode": {
    "name": "ipython",
    "version": 3
   },
   "file_extension": ".py",
   "mimetype": "text/x-python",
   "name": "python",
   "nbconvert_exporter": "python",
   "pygments_lexer": "ipython3",
   "version": "3.11.0"
  }
 },
 "nbformat": 4,
 "nbformat_minor": 5
}
